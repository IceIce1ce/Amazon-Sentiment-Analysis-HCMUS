{
  "nbformat": 4,
  "nbformat_minor": 0,
  "metadata": {
    "colab": {
      "name": "Untitled0.ipynb",
      "provenance": [],
      "collapsed_sections": []
    },
    "kernelspec": {
      "name": "python3",
      "display_name": "Python 3"
    },
    "accelerator": "GPU"
  },
  "cells": [
    {
      "cell_type": "code",
      "metadata": {
        "id": "oDfMsQ5lmdhk",
        "colab_type": "code",
        "colab": {}
      },
      "source": [
        "# DON'T CHANGE this part: import libraries\n",
        "import numpy as np\n",
        "import scipy\n",
        "import json\n",
        "from nltk.stem import PorterStemmer \n",
        "from nltk.corpus import stopwords\n",
        "from nltk.tokenize import word_tokenize \n",
        "import re\n",
        "import itertools"
      ],
      "execution_count": 2,
      "outputs": []
    },
    {
      "cell_type": "code",
      "metadata": {
        "id": "2wV8aymEjThP",
        "colab_type": "code",
        "colab": {
          "base_uri": "https://localhost:8080/",
          "height": 34
        },
        "outputId": "e1e4dc57-5cd2-4954-b3f2-3de0e070e3d7"
      },
      "source": [
        "# DON'T CHANGE this part: read data path\n",
        "train_set_path, valid_set_path, random_number = input().split()"
      ],
      "execution_count": 6,
      "outputs": [
        {
          "output_type": "stream",
          "text": [
            "/content/train.json /content/valid.json 1\n"
          ],
          "name": "stdout"
        }
      ]
    },
    {
      "cell_type": "code",
      "metadata": {
        "id": "jP8sbfuhmy6H",
        "colab_type": "code",
        "colab": {}
      },
      "source": [
        "def preProcess(reviewText):\n",
        "    # convert string text to lower\n",
        "    reviewText = reviewText.lower() \n",
        "    # replace any number in string text to character 'num'\n",
        "    reviewText = re.sub(pattern=r\"\\d\", repl=r\"num\", string=reviewText) \n",
        "    # split a string text, use word_tokenize instead of reviewText.split() to handle stopwords\n",
        "    text_tokens = word_tokenize(reviewText)\n",
        "    # remove stopwords\n",
        "    text_without_sw = [word for word in text_tokens if not word in stopwords.words()]\n",
        "    # stemming\n",
        "    ps = PorterStemmer()\n",
        "    reviewStem = [] # list store result after stemming\n",
        "    for w in text_without_sw:\n",
        "        reviewStem.append(ps.stem(w))\n",
        "    return reviewStem"
      ],
      "execution_count": 13,
      "outputs": []
    },
    {
      "cell_type": "code",
      "metadata": {
        "id": "ATkhaj86m1iL",
        "colab_type": "code",
        "colab": {}
      },
      "source": [
        "def readFile(myFile):\n",
        "    with open(myFile) as f: data = json.load(f) # read json file\n",
        "    # zip review text correspond to overall \n",
        "    overall, reviewTex = zip(*[(rev['overall'], preProcess(rev['reviewText'])) for rev in data])\n",
        "    # example if list1 = ['1', '2', '3'], list2 = ['3', '4', '5']\n",
        "    # it'll become list3 = ['1', '2', '3', '4', '5', 'unk']\n",
        "    vocabulary = sorted(set(list(itertools.chain.from_iterable(reviewTex)) + ['unk']))\n",
        "    return overall, reviewTex, vocabulary"
      ],
      "execution_count": 14,
      "outputs": []
    },
    {
      "cell_type": "code",
      "metadata": {
        "id": "1WBPhNMwm5Kv",
        "colab_type": "code",
        "colab": {}
      },
      "source": [
        "ove1, rev1, vocab1 = readFile(train_set_path) # read train.json file"
      ],
      "execution_count": 18,
      "outputs": []
    },
    {
      "cell_type": "code",
      "metadata": {
        "id": "MUCPE1F1ooaX",
        "colab_type": "code",
        "colab": {}
      },
      "source": [
        "ove2, rev2, vocab2 = readFile(valid_set_path) # read valid.json file"
      ],
      "execution_count": 19,
      "outputs": []
    },
    {
      "cell_type": "code",
      "metadata": {
        "id": "W_e_UHbzo6_V",
        "colab_type": "code",
        "colab": {}
      },
      "source": [
        "def word_embed(reviewText, vocab): \n",
        "  bow_vector = np.zeros((len(reviewText), len(vocab)), dtype=int) # define bag of words matrix\n",
        "  # for each review text\n",
        "  for j in range(len(reviewText)):\n",
        "    # for each word within the review text\n",
        "    for w in reviewText[j]:\n",
        "      # for each word within the vocabulary\n",
        "      for i, word in enumerate(vocab):\n",
        "        # if word appear in vocabulary, add 1 to this position\n",
        "        if word == w: bow_vector[j, i] += 1\n",
        "  return bow_vector # return bow matrix"
      ],
      "execution_count": 23,
      "outputs": []
    },
    {
      "cell_type": "code",
      "metadata": {
        "id": "zhAS29XUpNAu",
        "colab_type": "code",
        "colab": {}
      },
      "source": [
        "convert_overall_int = tuple(int(ele) for ele in ove2) # nomarlize label overall to int"
      ],
      "execution_count": 25,
      "outputs": []
    },
    {
      "cell_type": "code",
      "metadata": {
        "id": "ahO5nK4EpXsW",
        "colab_type": "code",
        "colab": {}
      },
      "source": [
        "convert_tuple_to_list = list(convert_overall_int) # convert tuple overall to list"
      ],
      "execution_count": 26,
      "outputs": []
    },
    {
      "cell_type": "code",
      "metadata": {
        "id": "hzXv5jBhpasA",
        "colab_type": "code",
        "colab": {}
      },
      "source": [
        "convert_list_to_np_array = np.asarray(convert_tuple_to_list) # convert list overall to numpy array"
      ],
      "execution_count": 27,
      "outputs": []
    },
    {
      "cell_type": "code",
      "metadata": {
        "id": "bcb7yIEYpezW",
        "colab_type": "code",
        "colab": {}
      },
      "source": [
        "def processOve1(a):\n",
        "  a[(a >= 1) & (a <= 3)] = -1 # if overall is 1,2,3 -> assign -1\n",
        "  return a\n",
        "\n",
        "def processOve2(a):\n",
        "  a[(a >= 4) & (a <= 5)] = 1 # if overall is 4,5 -> assign 1\n",
        "  return a"
      ],
      "execution_count": 28,
      "outputs": []
    },
    {
      "cell_type": "code",
      "metadata": {
        "id": "EC2-xOwxphNe",
        "colab_type": "code",
        "colab": {}
      },
      "source": [
        "res1 = processOve1(convert_list_to_np_array)\n",
        "res2 = processOve2(res1) # process label overall"
      ],
      "execution_count": 29,
      "outputs": []
    },
    {
      "cell_type": "code",
      "metadata": {
        "id": "TcootIJVsobW",
        "colab_type": "code",
        "colab": {}
      },
      "source": [
        "# build linear regression\n",
        "# our linear regression will be like that: overall = error + coeff * reviewText\n",
        "new_x = word_embed(rev2, vocab1) # reviewText get from valid.json file, vocab get from train.json file\n",
        "new_y = np.reshape(res2, (-1, 1)) # reshape array overall to 2d array with 1 column = length of 2d array new_x "
      ],
      "execution_count": 32,
      "outputs": []
    },
    {
      "cell_type": "code",
      "metadata": {
        "id": "VgHcjiZXu2aX",
        "colab_type": "code",
        "colab": {}
      },
      "source": [
        "def singleLinearRegression(X, Y):\n",
        "  nu, de = 0, 0\n",
        "  for i in range(len(X)):\n",
        "    # single linear regression: y = ax + b\n",
        "    # coeff_a = sigma(1->len(X))((xi-mean(x)) / (yi - mean(y))) / sigma(1->len(X))(xi - mean(X))^2\n",
        "    # coeff_b = mean(y) - coeff of a * mean(x)\n",
        "    nu += (X[i] - np.mean(X)) * (Y[i] - np.mean(Y))\n",
        "    de += (X[i] - np.mean(X))**2\n",
        "  coeff_a = nu / de\n",
        "  coeff_b = np.mean(Y) - (coeff_a * np.mean(X))\n",
        "  return coeff_a, coeff_b # return coeff of a and b"
      ],
      "execution_count": 33,
      "outputs": []
    },
    {
      "cell_type": "code",
      "metadata": {
        "id": "YeIzAMiuxIBJ",
        "colab_type": "code",
        "colab": {}
      },
      "source": [
        "coeff_a, coeff_b = singleLinearRegression(new_x, new_y)"
      ],
      "execution_count": 34,
      "outputs": []
    },
    {
      "cell_type": "code",
      "metadata": {
        "id": "U24UsCVd3YLn",
        "colab_type": "code",
        "colab": {}
      },
      "source": [
        "# compute root mean square error \n",
        "def compute_rmse(X, coeff_b, coeff_a):\n",
        "  m = len(X)\n",
        "  RMSE = 0\n",
        "  for i in range(m):\n",
        "    y_predict = coeff_b + coeff_a * new_x[i]\n",
        "    # rsme = sqrt(sigma(1->m)*(1/m)*(y-yi)^2)\n",
        "    RMSE += (new_y[i] - y_predict)**2\n",
        "  RMSE = np.sqrt(RMSE/m)\n",
        "  return RMSE"
      ],
      "execution_count": 69,
      "outputs": []
    },
    {
      "cell_type": "code",
      "metadata": {
        "id": "UYa2kE6x6vxj",
        "colab_type": "code",
        "colab": {
          "base_uri": "https://localhost:8080/",
          "height": 34
        },
        "outputId": "ce37d924-8bab-4b0c-ca08-60500d25e004"
      },
      "source": [
        "result_rmse = compute_rmse(new_x, coeff_b, coeff_a)\n",
        "print(\"Root mean square error:\", np.average(result_rmse))"
      ],
      "execution_count": 70,
      "outputs": [
        {
          "output_type": "stream",
          "text": [
            "Root mean square error: 0.6634920592438485\n"
          ],
          "name": "stdout"
        }
      ]
    },
    {
      "cell_type": "code",
      "metadata": {
        "id": "1D6vLHK-76Sv",
        "colab_type": "code",
        "colab": {}
      },
      "source": [
        "# compute mean absolute error\n",
        "def compute_mae(X, coeff_b, coeff_a):\n",
        "  m = len(X)\n",
        "  MAE = 0\n",
        "  for i in range(m):\n",
        "    y_predict = coeff_b + coeff_a * new_x[i]\n",
        "    # mae = sigma(1->m)((1/m)*abs(yi-y))\n",
        "    MAE += abs(y_predict - new_y[i])\n",
        "  MAE /= m\n",
        "  return MAE"
      ],
      "execution_count": 71,
      "outputs": []
    },
    {
      "cell_type": "code",
      "metadata": {
        "id": "6Wl2GfzxqSFN",
        "colab_type": "code",
        "colab": {
          "base_uri": "https://localhost:8080/",
          "height": 51
        },
        "outputId": "39a7fd95-1107-4b9e-e42c-783ea3433b41"
      },
      "source": [
        "result_mae = compute_mae(new_x, coeff_b, coeff_a) # find accuracy of linear regression model by calculating mean absolute error\n",
        "random_num = int(random_number) # convert random_number to int\n",
        "print(rev2[random_num]) # output text preprocess with a random_number from valid.json file\n",
        "print(\"M1 -\", np.mean(result_mae)) # output accuracy of model M1 "
      ],
      "execution_count": 72,
      "outputs": [
        {
          "output_type": "stream",
          "text": [
            "['strong', 'would', 'like', 'peavey', 'mike', \"'ll\", 'price', '.']\n",
            "M1 - 0.44023394014546374\n"
          ],
          "name": "stdout"
        }
      ]
    }
  ]
}